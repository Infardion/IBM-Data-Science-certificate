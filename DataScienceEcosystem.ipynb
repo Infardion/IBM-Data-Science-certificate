{
 "cells": [
  {
   "cell_type": "markdown",
   "id": "1023dd1b-8eab-4e81-84de-7195b3aad0b8",
   "metadata": {},
   "source": [
    "# Data Science Tools and Ecosystem"
   ]
  },
  {
   "cell_type": "markdown",
   "id": "fb111890-a3e2-4fae-8392-ac897a8fbf99",
   "metadata": {},
   "source": [
    "In this notebook, Data Science Tools and Ecosystem are summarized."
   ]
  },
  {
   "cell_type": "markdown",
   "id": "f5a26c43-af1b-4d46-94aa-e5bb476fd86a",
   "metadata": {},
   "source": [
    "**Objectives:**\n",
    "+ List popular languages for Data Science\n",
    "+ List of commonly used libraries used by Data Scientists\n",
    "+ List of popular Tools in Data Science\n",
    "+ Examples of arithmetic expression in Python"
   ]
  },
  {
   "cell_type": "markdown",
   "id": "a1735c6a-dbc0-4752-b96e-38ba1493b976",
   "metadata": {},
   "source": [
    "Some of the popular languages that Data Scientists use are:\n",
    "1. Python\n",
    "2. R\n",
    "3. Julia"
   ]
  },
  {
   "cell_type": "markdown",
   "id": "5798186e-d947-4eec-a7af-527d8002c8e7",
   "metadata": {},
   "source": [
    "Some of the commonly used libraries used by Data Scientists include:\n",
    "1. Pandas\n",
    "2. Pyplot\n",
    "3. Scipy\n",
    "4. ScikitLearn\n",
    "5. Keras\n",
    "6. TensorFlow\n",
    "7. ggplot\n",
    "8. GGally"
   ]
  },
  {
   "cell_type": "markdown",
   "id": "93b26857-592b-420b-bfde-549d48ac6268",
   "metadata": {},
   "source": [
    "|Data Science Tools|\n",
    "|------|\n",
    "|Github|\n",
    "|Jupyter Notebook|\n",
    "|Jupyter Lab|\n",
    "|RStudio|\n",
    "|Visual Studio Code|"
   ]
  },
  {
   "cell_type": "markdown",
   "id": "bcb62705-4b65-4caa-b1bb-8db913712f1d",
   "metadata": {},
   "source": [
    "### Below are a few examples of evaluating arithmetic expressions in Python"
   ]
  },
  {
   "cell_type": "code",
   "execution_count": 1,
   "id": "35457b37-392a-45b7-8640-b00051dd8b2b",
   "metadata": {},
   "outputs": [
    {
     "data": {
      "text/plain": [
       "17"
      ]
     },
     "execution_count": 1,
     "metadata": {},
     "output_type": "execute_result"
    }
   ],
   "source": [
    "#This a simple arithmetic expression to mutiply then add integers\n",
    "(3*4)+5"
   ]
  },
  {
   "cell_type": "code",
   "execution_count": 2,
   "id": "22a47380-7045-4c2a-90b0-6690e4dbef4d",
   "metadata": {},
   "outputs": [
    {
     "data": {
      "text/plain": [
       "3.3333333333333335"
      ]
     },
     "execution_count": 2,
     "metadata": {},
     "output_type": "execute_result"
    }
   ],
   "source": [
    "#This will convert 200 minutes to hours by diving by 60\n",
    "200/60"
   ]
  },
  {
   "cell_type": "markdown",
   "id": "b56acd5a-b1f2-44d1-a1a1-ffbefdf86828",
   "metadata": {},
   "source": [
    "## Author\n",
    "Konrad Płoszaj"
   ]
  }
 ],
 "metadata": {
  "kernelspec": {
   "display_name": "Python 3 (ipykernel)",
   "language": "python",
   "name": "python3"
  },
  "language_info": {
   "codemirror_mode": {
    "name": "ipython",
    "version": 3
   },
   "file_extension": ".py",
   "mimetype": "text/x-python",
   "name": "python",
   "nbconvert_exporter": "python",
   "pygments_lexer": "ipython3",
   "version": "3.11.7"
  }
 },
 "nbformat": 4,
 "nbformat_minor": 5
}
